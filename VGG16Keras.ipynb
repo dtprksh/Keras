{
 "cells": [
  {
   "cell_type": "code",
   "execution_count": null,
   "metadata": {},
   "outputs": [],
   "source": [
    "import keras\n",
    "from keras.layers import Activation,Conv2D,BatchNormalization,AveragePooling2D,Dense,Flatten\n",
    "from keras.models import Sequential,Model\n",
    "from keras.preprocessing.image import ImageDataGenerator"
   ]
  },
  {
   "cell_type": "code",
   "execution_count": null,
   "metadata": {},
   "outputs": [],
   "source": [
    "model = Sequential()"
   ]
  },
  {
   "cell_type": "code",
   "execution_count": null,
   "metadata": {},
   "outputs": [],
   "source": [
    "def conv(num_filter,kernel,padding='same',activation='relu'):\n",
    "    model.add(Conv2D(num_filter,kernel,padding=padding,use_bias=False))\n",
    "    model.add(BatchNormalization())\n",
    "    model.add(Activation(activation))"
   ]
  },
  {
   "cell_type": "code",
   "execution_count": null,
   "metadata": {},
   "outputs": [],
   "source": [
    "def maxpool():\n",
    "    model.add(keras.layers.MaxPool2D())"
   ]
  },
  {
   "cell_type": "code",
   "execution_count": null,
   "metadata": {},
   "outputs": [],
   "source": [
    "def fc(n,activation='relu'):\n",
    "    model.add(Dense(n))\n",
    "    model.add(BatchNormalization())\n",
    "    model.add(Activation(activation))"
   ]
  },
  {
   "cell_type": "code",
   "execution_count": null,
   "metadata": {},
   "outputs": [],
   "source": [
    "def convxn(num_filter,kernel,n,padding='same',activation='relu'):\n",
    "    for i in range(n):\n",
    "        conv(num_filter,kernel)"
   ]
  },
  {
   "cell_type": "code",
   "execution_count": null,
   "metadata": {},
   "outputs": [],
   "source": [
    "convxn(64,3,2)\n",
    "maxpool()\n",
    "convxn(128,3,2)\n",
    "maxpool()\n",
    "convxn(256,3,2)\n",
    "conv(256,1)\n",
    "maxpool()\n",
    "convxn(512,3,2)\n",
    "conv(512,1)\n",
    "maxpool()\n",
    "convxn(512,3,2)\n",
    "conv(512,1)\n",
    "maxpool()\n",
    "fc(4096)\n",
    "fc(4096)\n",
    "fc(10,'softmax')"
   ]
  },
  {
   "cell_type": "code",
   "execution_count": null,
   "metadata": {},
   "outputs": [],
   "source": [
    "model.compile(optimizer='adam',metrics=['accuracy'],loss='categorical_crossentropy')"
   ]
  },
  {
   "cell_type": "code",
   "execution_count": null,
   "metadata": {},
   "outputs": [],
   "source": [
    "from keras.datasets import cifar10"
   ]
  },
  {
   "cell_type": "code",
   "execution_count": null,
   "metadata": {},
   "outputs": [],
   "source": [
    "(x_train,y_train),(x_test,y_test)=cifar10.load_data()"
   ]
  },
  {
   "cell_type": "code",
   "execution_count": null,
   "metadata": {},
   "outputs": [],
   "source": [
    "import cv2\n",
    "import numpy as np\n",
    "x=[]\n",
    "for i in range(len(x_test)):\n",
    "    x.append(cv2.resize(x_test[i],(224,224)))\n",
    "xte=np.array(x)\n",
    "xte=xte/255."
   ]
  },
  {
   "cell_type": "code",
   "execution_count": null,
   "metadata": {},
   "outputs": [],
   "source": [
    "xtr=[]\n",
    "for i in range(len(x_train)):\n",
    "    xtr.append(cv2.resize(x_train[i],(224,224)))\n",
    "xtr=np.array(xtr)\n",
    "xtr=xtr/255."
   ]
  },
  {
   "cell_type": "code",
   "execution_count": null,
   "metadata": {},
   "outputs": [],
   "source": [
    "from keras.utils import np_utils"
   ]
  },
  {
   "cell_type": "code",
   "execution_count": null,
   "metadata": {},
   "outputs": [],
   "source": [
    "y_train=np_utils.to_categorical(y_train)\n",
    "y_test=np_utils.to_categorical(y_test)"
   ]
  },
  {
   "cell_type": "code",
   "execution_count": null,
   "metadata": {},
   "outputs": [],
   "source": [
    "filepath='VGG16.{epoch:02d}-{val_loss:.2f}.hdf5'\n",
    "ckpt=keras.callbacks.ModelCheckpoint(filepath,monitor='val_acc',save_best_only=True)\n",
    "tb=keras.callbacks.TensorBoard(log_dir='./Graph',write_images=True)\n",
    "es=keras.callbacks.EarlyStopping()\n",
    "lr=keras.callbacks.ReduceLROnPlateau(patience=7)"
   ]
  },
  {
   "cell_type": "code",
   "execution_count": null,
   "metadata": {},
   "outputs": [],
   "source": [
    "model.fit(x=x_train,y=y_train,batch_size=32,epochs=25,validation_data=(x_test,y_test),callbacks=[ckpt,tb,es,lr])"
   ]
  },
  {
   "cell_type": "code",
   "execution_count": null,
   "metadata": {},
   "outputs": [],
   "source": []
  }
 ],
 "metadata": {
  "kernelspec": {
   "display_name": "Python 3",
   "language": "python",
   "name": "python3"
  },
  "language_info": {
   "codemirror_mode": {
    "name": "ipython",
    "version": 3
   },
   "file_extension": ".py",
   "mimetype": "text/x-python",
   "name": "python",
   "nbconvert_exporter": "python",
   "pygments_lexer": "ipython3",
   "version": "3.6.5"
  }
 },
 "nbformat": 4,
 "nbformat_minor": 2
}
