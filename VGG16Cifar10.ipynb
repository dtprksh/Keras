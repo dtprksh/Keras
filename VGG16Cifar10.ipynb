{
 "cells": [
  {
   "cell_type": "code",
   "execution_count": 1,
   "metadata": {},
   "outputs": [
    {
     "name": "stderr",
     "output_type": "stream",
     "text": [
      "/home/aditya/anaconda3/lib/python3.6/site-packages/h5py/__init__.py:36: FutureWarning: Conversion of the second argument of issubdtype from `float` to `np.floating` is deprecated. In future, it will be treated as `np.float64 == np.dtype(float).type`.\n",
      "  from ._conv import register_converters as _register_converters\n",
      "Using TensorFlow backend.\n"
     ]
    }
   ],
   "source": [
    "import numpy as np\n",
    "import keras\n",
    "from keras.utils import np_utils\n",
    "from keras.models import Model\n",
    "from keras.layers import Dense,Flatten\n",
    "from keras.layers import BatchNormalization,Activation\n",
    "import keras.backend as K\n",
    "import tensorflow as tf\n",
    "import pandas as pd\n",
    "from keras.preprocessing.image import ImageDataGenerator\n",
    "from keras import applications"
   ]
  },
  {
   "cell_type": "code",
   "execution_count": 2,
   "metadata": {},
   "outputs": [],
   "source": [
    "labels=pd.read_csv('cifar10Labels.csv')"
   ]
  },
  {
   "cell_type": "code",
   "execution_count": 3,
   "metadata": {},
   "outputs": [],
   "source": [
    "model = applications.VGG16(weights='imagenet',include_top=False,input_shape=(128,128,3))"
   ]
  },
  {
   "cell_type": "code",
   "execution_count": 4,
   "metadata": {},
   "outputs": [],
   "source": [
    "for layers in model.layers:\n",
    "    layers.trainable=False"
   ]
  },
  {
   "cell_type": "code",
   "execution_count": 5,
   "metadata": {},
   "outputs": [],
   "source": [
    "from keras.models import Sequential\n",
    "top_model=Sequential()\n",
    "top_model.add(Flatten(input_shape=model.output_shape[1:]))\n",
    "top_model.add(Dense(2048))\n",
    "top_model.add(BatchNormalization())\n",
    "top_model.add(Activation('relu'))"
   ]
  },
  {
   "cell_type": "code",
   "execution_count": 6,
   "metadata": {},
   "outputs": [],
   "source": [
    "# top_model.add(Dense(512))\n",
    "# top_model.add(BatchNormalization())\n",
    "# top_model.add(Activation('relu'))\n",
    "top_model.add(Dense(10))\n",
    "top_model.add(BatchNormalization())\n",
    "top_model.add(Activation('softmax'))"
   ]
  },
  {
   "cell_type": "code",
   "execution_count": 7,
   "metadata": {},
   "outputs": [],
   "source": [
    "model =Model(inputs=model.input,outputs=top_model(model.output))"
   ]
  },
  {
   "cell_type": "code",
   "execution_count": 8,
   "metadata": {},
   "outputs": [],
   "source": [
    "model.compile(optimizer='Adam',loss='categorical_crossentropy',metrics=['accuracy'])"
   ]
  },
  {
   "cell_type": "code",
   "execution_count": 9,
   "metadata": {},
   "outputs": [],
   "source": [
    "train_dir='cifar10_train'\n",
    "valid_dir='cifar10_valid'"
   ]
  },
  {
   "cell_type": "code",
   "execution_count": 10,
   "metadata": {},
   "outputs": [],
   "source": [
    "filepath='weights.{epoch:02d}-{val_loss:.2f}.hdf5'\n",
    "tbCallBack = keras.callbacks.TensorBoard(log_dir='./Graph', histogram_freq=0, write_graph=True, write_images=True)\n",
    "mcCallBack = keras.callbacks.ModelCheckpoint(filepath,save_best_only=True,mode='auto')\n",
    "earlystop = keras.callbacks.EarlyStopping(monitor='val_loss',patience=5)\n",
    "decaylearn = keras.callbacks.ReduceLROnPlateau(patience=10)"
   ]
  },
  {
   "cell_type": "code",
   "execution_count": 11,
   "metadata": {},
   "outputs": [
    {
     "name": "stdout",
     "output_type": "stream",
     "text": [
      "Found 49500 images belonging to 10 classes.\n",
      "Found 500 images belonging to 10 classes.\n"
     ]
    }
   ],
   "source": [
    "train_datagen = ImageDataGenerator(\n",
    "    rescale=1. / 255,\n",
    "    shear_range=0.2,\n",
    "    zoom_range=0.2,\n",
    "    horizontal_flip=True)\n",
    "test_datagen = ImageDataGenerator(rescale=1. / 255)\n",
    "train_generator=train_datagen.flow_from_directory(train_dir,batch_size=32,target_size=(128,128),class_mode='categorical')\n",
    "test_generator=test_datagen.flow_from_directory(valid_dir,batch_size=32,target_size=(128,128),class_mode='categorical')"
   ]
  },
  {
   "cell_type": "code",
   "execution_count": null,
   "metadata": {},
   "outputs": [
    {
     "name": "stdout",
     "output_type": "stream",
     "text": [
      "Epoch 1/5\n",
      "1547/1547 [==============================] - 4280s 3s/step - loss: 1.0552 - acc: 0.6621 - val_loss: 0.9178 - val_acc: 0.6960\n",
      "Epoch 2/5\n",
      "1547/1547 [==============================] - 4250s 3s/step - loss: 0.8349 - acc: 0.7228 - val_loss: 0.7856 - val_acc: 0.7300\n",
      "Epoch 3/5\n",
      "1547/1547 [==============================] - 4252s 3s/step - loss: 0.7528 - acc: 0.7469 - val_loss: 0.7816 - val_acc: 0.7280\n",
      "Epoch 4/5\n",
      " 521/1547 [=========>....................] - ETA: 46:28 - loss: 0.7045 - acc: 0.7608"
     ]
    }
   ],
   "source": [
    "model.fit_generator(train_generator,\n",
    "                    callbacks=[tbCallBack,mcCallBack,earlystop,decaylearn],\n",
    "                    epochs=5,\n",
    "                    validation_data=test_generator)"
   ]
  },
  {
   "cell_type": "code",
   "execution_count": null,
   "metadata": {},
   "outputs": [],
   "source": []
  }
 ],
 "metadata": {
  "kernelspec": {
   "display_name": "Python 3",
   "language": "python",
   "name": "python3"
  },
  "language_info": {
   "codemirror_mode": {
    "name": "ipython",
    "version": 3
   },
   "file_extension": ".py",
   "mimetype": "text/x-python",
   "name": "python",
   "nbconvert_exporter": "python",
   "pygments_lexer": "ipython3",
   "version": "3.6.5"
  }
 },
 "nbformat": 4,
 "nbformat_minor": 2
}
