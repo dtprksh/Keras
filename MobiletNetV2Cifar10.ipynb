{
 "cells": [
  {
   "cell_type": "code",
   "execution_count": 1,
   "metadata": {},
   "outputs": [
    {
     "name": "stderr",
     "output_type": "stream",
     "text": [
      "Using TensorFlow backend.\n",
      "/usr/lib/python3.5/importlib/_bootstrap.py:222: RuntimeWarning: numpy.dtype size changed, may indicate binary incompatibility. Expected 96, got 88\n",
      "  return f(*args, **kwds)\n",
      "/usr/lib/python3.5/importlib/_bootstrap.py:222: RuntimeWarning: numpy.dtype size changed, may indicate binary incompatibility. Expected 96, got 88\n",
      "  return f(*args, **kwds)\n",
      "/usr/lib/python3.5/importlib/_bootstrap.py:222: RuntimeWarning: numpy.dtype size changed, may indicate binary incompatibility. Expected 96, got 88\n",
      "  return f(*args, **kwds)\n"
     ]
    }
   ],
   "source": [
    "import numpy as np\n",
    "import keras\n",
    "from keras.utils import np_utils\n",
    "from keras.models import Model,Sequential\n",
    "from keras.layers import Dense,Flatten\n",
    "from keras.layers import BatchNormalization,Activation\n",
    "import keras.backend as K\n",
    "import tensorflow as tf\n",
    "import pandas as pd\n",
    "import os\n",
    "os.environ[\"CUDA_VISIBLE_DEVICES\"] = \"0\""
   ]
  },
  {
   "cell_type": "code",
   "execution_count": 2,
   "metadata": {},
   "outputs": [],
   "source": [
    "model = keras.applications.MobileNetV2(weights='imagenet',include_top=False,input_shape=(224,224,3),pooling='avg')"
   ]
  },
  {
   "cell_type": "code",
   "execution_count": 4,
   "metadata": {},
   "outputs": [],
   "source": [
    "top_model=Sequential()\n",
    "top_model.add(Dense(10))\n",
    "top_model.add(Activation('softmax'))\n",
    "model=Model(inputs=model.input,outputs=top_model(model.output))"
   ]
  },
  {
   "cell_type": "code",
   "execution_count": 5,
   "metadata": {},
   "outputs": [],
   "source": [
    "adam=keras.optimizers.Adam(lr =0.0001)\n",
    "model.compile(optimizer=adam,loss='categorical_crossentropy',metrics=['accuracy'])"
   ]
  },
  {
   "cell_type": "code",
   "execution_count": 6,
   "metadata": {},
   "outputs": [],
   "source": [
    "train_dir='cifar10_train'\n",
    "valid_dir='cifar10_valid'"
   ]
  },
  {
   "cell_type": "code",
   "execution_count": 7,
   "metadata": {},
   "outputs": [
    {
     "name": "stderr",
     "output_type": "stream",
     "text": [
      "/usr/lib/python3.5/importlib/_bootstrap.py:222: RuntimeWarning: numpy.dtype size changed, may indicate binary incompatibility. Expected 96, got 88\n",
      "  return f(*args, **kwds)\n",
      "/usr/lib/python3.5/importlib/_bootstrap.py:222: RuntimeWarning: numpy.dtype size changed, may indicate binary incompatibility. Expected 96, got 88\n",
      "  return f(*args, **kwds)\n"
     ]
    }
   ],
   "source": [
    "filepath='weightsmobile.{epoch:02d}-{val_loss:.2f}.hdf5'\n",
    "tbCallBack = keras.callbacks.TensorBoard(log_dir='./Graph', histogram_freq=0, write_graph=True, write_images=True)\n",
    "mcCallBack = keras.callbacks.ModelCheckpoint(filepath,save_best_only=True,mode='auto')\n",
    "earlystop = keras.callbacks.EarlyStopping(monitor='val_loss',patience=20)"
   ]
  },
  {
   "cell_type": "code",
   "execution_count": null,
   "metadata": {},
   "outputs": [
    {
     "name": "stdout",
     "output_type": "stream",
     "text": [
      "Found 49500 images belonging to 10 classes.\n",
      "Found 504 images belonging to 10 classes.\n"
     ]
    }
   ],
   "source": [
    "from keras.preprocessing.image import ImageDataGenerator\n",
    "train_datagen = ImageDataGenerator(\n",
    "    rescale=1. / 255,\n",
    "    shear_range=0.2,\n",
    "    zoom_range=0.2,\n",
    "    rotation_range=20,\n",
    "    vertical_flip=False,\n",
    "    horizontal_flip=True)\n",
    "test_datagen = ImageDataGenerator(rescale=1. / 255)\n",
    "train_generator=train_datagen.flow_from_directory(train_dir,batch_size=32,target_size=(224,224),class_mode='categorical')\n",
    "test_generator=test_datagen.flow_from_directory(valid_dir,batch_size=32,target_size=(224,224),class_mode='categorical')"
   ]
  },
  {
   "cell_type": "code",
   "execution_count": null,
   "metadata": {},
   "outputs": [
    {
     "name": "stdout",
     "output_type": "stream",
     "text": [
      "Epoch 1/25\n",
      "1547/1547 [==============================] - 1189s 768ms/step - loss: 0.5782 - acc: 0.8019 - val_loss: 0.4627 - val_acc: 0.8571\n",
      "Epoch 2/25\n",
      "1547/1547 [==============================] - 699s 452ms/step - loss: 0.2831 - acc: 0.9014 - val_loss: 0.2131 - val_acc: 0.9206\n",
      "Epoch 3/25\n",
      "1547/1547 [==============================] - 699s 452ms/step - loss: 0.2144 - acc: 0.9257 - val_loss: 0.2347 - val_acc: 0.9246\n",
      "Epoch 4/25\n",
      "1547/1547 [==============================] - 699s 452ms/step - loss: 0.1737 - acc: 0.9397 - val_loss: 0.2538 - val_acc: 0.9306\n",
      "Epoch 5/25\n",
      "1547/1547 [==============================] - 701s 453ms/step - loss: 0.1429 - acc: 0.9511 - val_loss: 0.2424 - val_acc: 0.9286\n",
      "Epoch 6/25\n",
      "1547/1547 [==============================] - 701s 453ms/step - loss: 0.1230 - acc: 0.9574 - val_loss: 0.2606 - val_acc: 0.9246\n",
      "Epoch 7/25\n",
      "1111/1547 [====================>.........] - ETA: 3:16 - loss: 0.1040 - acc: 0.9634"
     ]
    }
   ],
   "source": [
    "decaylearn = keras.callbacks.ReduceLROnPlateau(patience=10)\n",
    "model.fit_generator(train_generator,\n",
    "                    epochs=25,\n",
    "                    callbacks=[tbCallBack,mcCallBack,earlystop,decaylearn],\n",
    "                    validation_data=test_generator,\n",
    "                    validation_steps=16)"
   ]
  },
  {
   "cell_type": "code",
   "execution_count": null,
   "metadata": {},
   "outputs": [],
   "source": []
  }
 ],
 "metadata": {
  "kernelspec": {
   "display_name": "Python 3",
   "language": "python",
   "name": "python3"
  },
  "language_info": {
   "codemirror_mode": {
    "name": "ipython",
    "version": 3
   },
   "file_extension": ".py",
   "mimetype": "text/x-python",
   "name": "python",
   "nbconvert_exporter": "python",
   "pygments_lexer": "ipython3",
   "version": "3.5.2"
  }
 },
 "nbformat": 4,
 "nbformat_minor": 2
}
