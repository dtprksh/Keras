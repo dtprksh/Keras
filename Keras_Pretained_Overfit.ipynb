{
 "cells": [
  {
   "cell_type": "code",
   "execution_count": 1,
   "metadata": {},
   "outputs": [
    {
     "name": "stderr",
     "output_type": "stream",
     "text": [
      "/home/aditya/anaconda3/lib/python3.6/site-packages/h5py/__init__.py:36: FutureWarning: Conversion of the second argument of issubdtype from `float` to `np.floating` is deprecated. In future, it will be treated as `np.float64 == np.dtype(float).type`.\n",
      "  from ._conv import register_converters as _register_converters\n",
      "Using TensorFlow backend.\n"
     ]
    }
   ],
   "source": [
    "import numpy as np\n",
    "from keras.preprocessing.image import ImageDataGenerator\n",
    "from keras.layers import Dropout,Flatten,Dense\n",
    "from keras.models import Sequential\n",
    "from keras import applications"
   ]
  },
  {
   "cell_type": "code",
   "execution_count": 7,
   "metadata": {},
   "outputs": [],
   "source": [
    "img_width, img_height = 150, 150"
   ]
  },
  {
   "cell_type": "code",
   "execution_count": 24,
   "metadata": {},
   "outputs": [],
   "source": [
    "top_model_weights_path = 'bottleneck_fc_model.h5'\n",
    "train_data_dir = 'data/train'\n",
    "validation_data_dir = 'data/validation'\n",
    "nb_train_samples = 2000\n",
    "nb_validation_samples = 800\n",
    "epochs = 50\n",
    "batch_size = 16"
   ]
  },
  {
   "cell_type": "code",
   "execution_count": 25,
   "metadata": {},
   "outputs": [],
   "source": [
    "def save_bottlebeck_features():\n",
    "    datagen = ImageDataGenerator(rescale=1. / 255)\n",
    "    model=applications.VGG16(include_top=False,weights='imagenet')\n",
    "    generator = datagen.flow_from_directory(\n",
    "        train_data_dir,\n",
    "        target_size=(img_width, img_height),\n",
    "        batch_size=batch_size,\n",
    "        class_mode=None,\n",
    "        shuffle=False)\n",
    "    bottleneck_features_train = model.predict_generator(generator, nb_train_samples // batch_size)\n",
    "    np.save(open('bottleneck_features_train.npy', 'wb'),bottleneck_features_train)\n",
    "    generator = datagen.flow_from_directory(\n",
    "        validation_data_dir,\n",
    "        target_size=(img_width, img_height),\n",
    "        batch_size=batch_size,\n",
    "        class_mode=None,\n",
    "        shuffle=False)\n",
    "    bottleneck_features_validation = model.predict_generator(generator, nb_validation_samples // batch_size)\n",
    "    np.save(open('bottleneck_features_validation.npy', 'wb'),bottleneck_features_validation)"
   ]
  },
  {
   "cell_type": "code",
   "execution_count": 26,
   "metadata": {},
   "outputs": [],
   "source": [
    "def train_top_model():\n",
    "    train_data=np.load(open('bottleneck_features_train.npy','rb'))\n",
    "    \n",
    "    train_labels=np.array([0]*int(nb_train_samples/2)+[1]*int(nb_train_samples/2))\n",
    "    validation_data=np.load(open('bottleneck_features_validation.npy','rb'))\n",
    "    validation_labels=np.array([0]*(int(nb_validation_samples/2))+[1]*int((nb_validation_samples/2)))\n",
    "    model=Sequential()\n",
    "    model.add(Flatten(input_shape=train_data.shape[1:]))\n",
    "    model.add(Dense(256,activation='relu'))\n",
    "    model.add(Dropout(0.5))\n",
    "    model.add(Dense(1,activation='sigmoid'))\n",
    "    model.compile(optimizer='rmsprop',loss='binary_crossentropy', metrics=['accuracy'])\n",
    "    model.fit(train_data,train_labels,epochs=epochs,batch_size=batch_size,\n",
    "             validation_data=(validation_data,validation_labels))\n",
    "    model.save_weights(top_model_weights_path)"
   ]
  },
  {
   "cell_type": "code",
   "execution_count": 27,
   "metadata": {},
   "outputs": [
    {
     "name": "stdout",
     "output_type": "stream",
     "text": [
      "Found 2000 images belonging to 2 classes.\n",
      "Found 800 images belonging to 2 classes.\n",
      "Train on 2000 samples, validate on 800 samples\n",
      "Epoch 1/50\n",
      "2000/2000 [==============================] - 3s 2ms/step - loss: 0.6226 - acc: 0.7725 - val_loss: 0.3596 - val_acc: 0.8400\n",
      "Epoch 2/50\n",
      "2000/2000 [==============================] - 3s 1ms/step - loss: 0.3497 - acc: 0.8595 - val_loss: 0.2895 - val_acc: 0.8912\n",
      "Epoch 3/50\n",
      "2000/2000 [==============================] - 3s 1ms/step - loss: 0.3005 - acc: 0.8860 - val_loss: 0.2981 - val_acc: 0.8800\n",
      "Epoch 4/50\n",
      "2000/2000 [==============================] - 3s 1ms/step - loss: 0.2839 - acc: 0.8895 - val_loss: 0.3239 - val_acc: 0.8888\n",
      "Epoch 5/50\n",
      "2000/2000 [==============================] - 3s 1ms/step - loss: 0.2394 - acc: 0.9145 - val_loss: 0.3602 - val_acc: 0.8825\n",
      "Epoch 6/50\n",
      "2000/2000 [==============================] - 3s 1ms/step - loss: 0.2022 - acc: 0.9130 - val_loss: 0.3929 - val_acc: 0.8738\n",
      "Epoch 7/50\n",
      "2000/2000 [==============================] - 3s 2ms/step - loss: 0.1891 - acc: 0.9240 - val_loss: 0.4170 - val_acc: 0.8900\n",
      "Epoch 8/50\n",
      "2000/2000 [==============================] - 3s 1ms/step - loss: 0.1358 - acc: 0.9495 - val_loss: 0.5351 - val_acc: 0.8575\n",
      "Epoch 9/50\n",
      "2000/2000 [==============================] - 3s 2ms/step - loss: 0.1355 - acc: 0.9500 - val_loss: 0.4773 - val_acc: 0.8812\n",
      "Epoch 10/50\n",
      "2000/2000 [==============================] - 3s 1ms/step - loss: 0.1316 - acc: 0.9505 - val_loss: 0.4792 - val_acc: 0.8762\n",
      "Epoch 11/50\n",
      "2000/2000 [==============================] - 3s 1ms/step - loss: 0.1097 - acc: 0.9565 - val_loss: 0.4769 - val_acc: 0.8738\n",
      "Epoch 12/50\n",
      "2000/2000 [==============================] - 3s 2ms/step - loss: 0.1083 - acc: 0.9580 - val_loss: 0.5056 - val_acc: 0.8800\n",
      "Epoch 13/50\n",
      "2000/2000 [==============================] - 3s 2ms/step - loss: 0.0984 - acc: 0.9650 - val_loss: 0.5857 - val_acc: 0.8812\n",
      "Epoch 14/50\n",
      "2000/2000 [==============================] - 3s 1ms/step - loss: 0.0813 - acc: 0.9725 - val_loss: 0.6318 - val_acc: 0.8725\n",
      "Epoch 15/50\n",
      "2000/2000 [==============================] - 4s 2ms/step - loss: 0.0828 - acc: 0.9720 - val_loss: 0.8256 - val_acc: 0.8550\n",
      "Epoch 16/50\n",
      "2000/2000 [==============================] - 3s 2ms/step - loss: 0.0545 - acc: 0.9795 - val_loss: 0.7338 - val_acc: 0.8812\n",
      "Epoch 17/50\n",
      "2000/2000 [==============================] - 3s 2ms/step - loss: 0.0716 - acc: 0.9755 - val_loss: 0.6385 - val_acc: 0.8788\n",
      "Epoch 18/50\n",
      "2000/2000 [==============================] - 3s 2ms/step - loss: 0.0590 - acc: 0.9760 - val_loss: 0.7493 - val_acc: 0.8725\n",
      "Epoch 19/50\n",
      "2000/2000 [==============================] - 3s 2ms/step - loss: 0.0514 - acc: 0.9830 - val_loss: 0.7291 - val_acc: 0.8712\n",
      "Epoch 20/50\n",
      "2000/2000 [==============================] - 3s 2ms/step - loss: 0.0441 - acc: 0.9805 - val_loss: 0.7404 - val_acc: 0.8812\n",
      "Epoch 21/50\n",
      "2000/2000 [==============================] - 3s 2ms/step - loss: 0.0524 - acc: 0.9835 - val_loss: 0.7944 - val_acc: 0.8775\n",
      "Epoch 22/50\n",
      "2000/2000 [==============================] - 3s 2ms/step - loss: 0.0540 - acc: 0.9830 - val_loss: 0.8597 - val_acc: 0.8825\n",
      "Epoch 23/50\n",
      "2000/2000 [==============================] - 3s 2ms/step - loss: 0.0421 - acc: 0.9885 - val_loss: 1.0125 - val_acc: 0.8550\n",
      "Epoch 24/50\n",
      "2000/2000 [==============================] - 3s 2ms/step - loss: 0.0278 - acc: 0.9915 - val_loss: 0.8049 - val_acc: 0.8788\n",
      "Epoch 25/50\n",
      "2000/2000 [==============================] - 3s 2ms/step - loss: 0.0255 - acc: 0.9920 - val_loss: 0.9437 - val_acc: 0.8662\n",
      "Epoch 26/50\n",
      "2000/2000 [==============================] - 3s 2ms/step - loss: 0.0312 - acc: 0.9890 - val_loss: 1.0257 - val_acc: 0.8638\n",
      "Epoch 27/50\n",
      "2000/2000 [==============================] - 3s 2ms/step - loss: 0.0172 - acc: 0.9935 - val_loss: 0.9497 - val_acc: 0.8812\n",
      "Epoch 28/50\n",
      "2000/2000 [==============================] - 3s 2ms/step - loss: 0.0333 - acc: 0.9905 - val_loss: 0.9526 - val_acc: 0.8775\n",
      "Epoch 29/50\n",
      "2000/2000 [==============================] - 3s 2ms/step - loss: 0.0262 - acc: 0.9915 - val_loss: 1.0633 - val_acc: 0.8562\n",
      "Epoch 30/50\n",
      "2000/2000 [==============================] - 3s 2ms/step - loss: 0.0259 - acc: 0.9940 - val_loss: 0.9562 - val_acc: 0.8800\n",
      "Epoch 31/50\n",
      "2000/2000 [==============================] - 3s 2ms/step - loss: 0.0295 - acc: 0.9910 - val_loss: 1.0744 - val_acc: 0.8612\n",
      "Epoch 32/50\n",
      "2000/2000 [==============================] - 4s 2ms/step - loss: 0.0208 - acc: 0.9935 - val_loss: 1.0836 - val_acc: 0.8600\n",
      "Epoch 33/50\n",
      "2000/2000 [==============================] - 4s 2ms/step - loss: 0.0160 - acc: 0.9925 - val_loss: 1.0692 - val_acc: 0.8662\n",
      "Epoch 34/50\n",
      "2000/2000 [==============================] - 3s 2ms/step - loss: 0.0181 - acc: 0.9940 - val_loss: 1.0998 - val_acc: 0.8825\n",
      "Epoch 35/50\n",
      "2000/2000 [==============================] - 3s 2ms/step - loss: 0.0126 - acc: 0.9950 - val_loss: 1.1379 - val_acc: 0.8675\n",
      "Epoch 36/50\n",
      "2000/2000 [==============================] - 4s 2ms/step - loss: 0.0362 - acc: 0.9925 - val_loss: 1.1226 - val_acc: 0.8750\n",
      "Epoch 37/50\n",
      "2000/2000 [==============================] - 4s 2ms/step - loss: 0.0268 - acc: 0.9920 - val_loss: 1.2275 - val_acc: 0.8650\n",
      "Epoch 38/50\n",
      "2000/2000 [==============================] - 3s 2ms/step - loss: 0.0218 - acc: 0.9935 - val_loss: 1.0449 - val_acc: 0.8700\n",
      "Epoch 39/50\n",
      "2000/2000 [==============================] - 3s 2ms/step - loss: 0.0232 - acc: 0.9915 - val_loss: 1.0867 - val_acc: 0.8662\n",
      "Epoch 40/50\n",
      "2000/2000 [==============================] - 3s 2ms/step - loss: 0.0237 - acc: 0.9925 - val_loss: 1.1109 - val_acc: 0.8700\n",
      "Epoch 41/50\n",
      "2000/2000 [==============================] - 4s 2ms/step - loss: 0.0085 - acc: 0.9975 - val_loss: 1.0860 - val_acc: 0.8712\n",
      "Epoch 42/50\n",
      "2000/2000 [==============================] - 3s 2ms/step - loss: 0.0150 - acc: 0.9960 - val_loss: 1.1222 - val_acc: 0.8738\n",
      "Epoch 43/50\n",
      "2000/2000 [==============================] - 3s 2ms/step - loss: 0.0111 - acc: 0.9965 - val_loss: 1.1585 - val_acc: 0.8688\n",
      "Epoch 44/50\n",
      "2000/2000 [==============================] - 4s 2ms/step - loss: 0.0019 - acc: 0.9990 - val_loss: 1.3174 - val_acc: 0.8700\n",
      "Epoch 45/50\n",
      "2000/2000 [==============================] - 3s 2ms/step - loss: 0.0271 - acc: 0.9935 - val_loss: 1.2211 - val_acc: 0.8712\n",
      "Epoch 46/50\n",
      "2000/2000 [==============================] - 3s 2ms/step - loss: 0.0154 - acc: 0.9955 - val_loss: 1.1825 - val_acc: 0.8712\n",
      "Epoch 47/50\n",
      "2000/2000 [==============================] - 3s 2ms/step - loss: 0.0197 - acc: 0.9955 - val_loss: 1.1924 - val_acc: 0.8725\n",
      "Epoch 48/50\n",
      "2000/2000 [==============================] - 4s 2ms/step - loss: 0.0188 - acc: 0.9960 - val_loss: 1.2328 - val_acc: 0.8662\n",
      "Epoch 49/50\n",
      "2000/2000 [==============================] - 3s 2ms/step - loss: 0.0207 - acc: 0.9955 - val_loss: 1.2474 - val_acc: 0.8738\n",
      "Epoch 50/50\n",
      "2000/2000 [==============================] - 4s 2ms/step - loss: 0.0117 - acc: 0.9955 - val_loss: 1.3098 - val_acc: 0.8650\n"
     ]
    }
   ],
   "source": [
    "save_bottlebeck_features()\n",
    "train_top_model()"
   ]
  },
  {
   "cell_type": "code",
   "execution_count": null,
   "metadata": {},
   "outputs": [],
   "source": []
  }
 ],
 "metadata": {
  "kernelspec": {
   "display_name": "Python 3",
   "language": "python",
   "name": "python3"
  },
  "language_info": {
   "codemirror_mode": {
    "name": "ipython",
    "version": 3
   },
   "file_extension": ".py",
   "mimetype": "text/x-python",
   "name": "python",
   "nbconvert_exporter": "python",
   "pygments_lexer": "ipython3",
   "version": "3.6.5"
  }
 },
 "nbformat": 4,
 "nbformat_minor": 2
}
