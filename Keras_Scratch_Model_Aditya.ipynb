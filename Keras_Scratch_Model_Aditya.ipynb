{
 "cells": [
  {
   "cell_type": "code",
   "execution_count": 1,
   "metadata": {},
   "outputs": [
    {
     "name": "stderr",
     "output_type": "stream",
     "text": [
      "/home/aditya/anaconda3/lib/python3.6/site-packages/h5py/__init__.py:36: FutureWarning: Conversion of the second argument of issubdtype from `float` to `np.floating` is deprecated. In future, it will be treated as `np.float64 == np.dtype(float).type`.\n",
      "  from ._conv import register_converters as _register_converters\n",
      "Using TensorFlow backend.\n"
     ]
    }
   ],
   "source": [
    "from keras.preprocessing.image import ImageDataGenerator"
   ]
  },
  {
   "cell_type": "code",
   "execution_count": 2,
   "metadata": {},
   "outputs": [],
   "source": [
    "from keras.models import Sequential\n",
    "from keras.layers import Conv2D, MaxPooling2D\n",
    "from keras.layers import Activation, Dropout, Flatten, Dense\n",
    "from keras import backend as K"
   ]
  },
  {
   "cell_type": "code",
   "execution_count": 3,
   "metadata": {},
   "outputs": [],
   "source": [
    "img_width, img_height = 150, 150"
   ]
  },
  {
   "cell_type": "code",
   "execution_count": 10,
   "metadata": {},
   "outputs": [],
   "source": [
    "train_data_dir = 'data/train1'\n",
    "validation_data_dir = 'data/validation'\n",
    "nb_train_samples = 2000\n",
    "nb_validation_samples = 800\n",
    "epochs = 50\n",
    "batch_size = 16"
   ]
  },
  {
   "cell_type": "code",
   "execution_count": 11,
   "metadata": {},
   "outputs": [],
   "source": [
    "if K.image_data_format() == 'channels_first':\n",
    "    input_shape = (3, img_width, img_height)\n",
    "else:\n",
    "    input_shape = (img_width, img_height, 3)"
   ]
  },
  {
   "cell_type": "code",
   "execution_count": 12,
   "metadata": {},
   "outputs": [],
   "source": [
    "model = Sequential()\n",
    "model.add(Conv2D(32, (3, 3), input_shape=input_shape))\n",
    "model.add(Activation('relu'))\n",
    "model.add(MaxPooling2D(pool_size=(2, 2)))\n",
    "\n",
    "model.add(Conv2D(32, (3, 3)))\n",
    "model.add(Activation('relu'))\n",
    "model.add(MaxPooling2D(pool_size=(2, 2)))\n",
    "\n",
    "model.add(Conv2D(64, (3, 3)))\n",
    "model.add(Activation('relu'))\n",
    "model.add(MaxPooling2D(pool_size=(2, 2)))\n",
    "\n",
    "model.add(Flatten())\n",
    "model.add(Dense(64))\n",
    "model.add(Activation('relu'))\n",
    "model.add(Dropout(0.5))\n",
    "model.add(Dense(1))\n",
    "model.add(Activation('sigmoid'))"
   ]
  },
  {
   "cell_type": "code",
   "execution_count": 13,
   "metadata": {},
   "outputs": [],
   "source": [
    "model.compile(loss='binary_crossentropy',\n",
    "              optimizer='rmsprop',\n",
    "              metrics=['accuracy'])"
   ]
  },
  {
   "cell_type": "code",
   "execution_count": 14,
   "metadata": {},
   "outputs": [],
   "source": [
    "train_datagen = ImageDataGenerator(\n",
    "    rescale=1. / 255,\n",
    "    shear_range=0.2,\n",
    "    zoom_range=0.2,\n",
    "    horizontal_flip=True)"
   ]
  },
  {
   "cell_type": "code",
   "execution_count": 15,
   "metadata": {},
   "outputs": [
    {
     "name": "stdout",
     "output_type": "stream",
     "text": [
      "Found 2000 images belonging to 2 classes.\n"
     ]
    }
   ],
   "source": [
    "train_generator = train_datagen.flow_from_directory(\n",
    "    train_data_dir,\n",
    "    target_size=(img_width, img_height),\n",
    "    batch_size=batch_size,\n",
    "    class_mode='binary')"
   ]
  },
  {
   "cell_type": "code",
   "execution_count": 17,
   "metadata": {},
   "outputs": [],
   "source": [
    "test_datagen = ImageDataGenerator(rescale=1. / 255)"
   ]
  },
  {
   "cell_type": "code",
   "execution_count": 18,
   "metadata": {},
   "outputs": [
    {
     "name": "stdout",
     "output_type": "stream",
     "text": [
      "Found 800 images belonging to 2 classes.\n"
     ]
    }
   ],
   "source": [
    "validation_generator = test_datagen.flow_from_directory(\n",
    "    validation_data_dir,\n",
    "    target_size=(img_width, img_height),\n",
    "    batch_size=batch_size,\n",
    "    class_mode='binary')"
   ]
  },
  {
   "cell_type": "code",
   "execution_count": 19,
   "metadata": {},
   "outputs": [
    {
     "name": "stdout",
     "output_type": "stream",
     "text": [
      "Epoch 1/50\n",
      "125/125 [==============================] - 44s 354ms/step - loss: 0.7435 - acc: 0.5205 - val_loss: 0.6917 - val_acc: 0.5100\n",
      "Epoch 2/50\n",
      "125/125 [==============================] - 44s 350ms/step - loss: 0.6869 - acc: 0.5545 - val_loss: 0.6573 - val_acc: 0.6462\n",
      "Epoch 3/50\n",
      "125/125 [==============================] - 43s 343ms/step - loss: 0.6670 - acc: 0.6205 - val_loss: 0.6415 - val_acc: 0.6350\n",
      "Epoch 4/50\n",
      "125/125 [==============================] - 44s 349ms/step - loss: 0.6259 - acc: 0.6660 - val_loss: 0.5892 - val_acc: 0.6975\n",
      "Epoch 5/50\n",
      "125/125 [==============================] - 45s 357ms/step - loss: 0.5971 - acc: 0.6915 - val_loss: 0.6099 - val_acc: 0.6775\n",
      "Epoch 6/50\n",
      "125/125 [==============================] - 45s 360ms/step - loss: 0.5975 - acc: 0.6910 - val_loss: 0.5970 - val_acc: 0.6887\n",
      "Epoch 7/50\n",
      "125/125 [==============================] - 43s 341ms/step - loss: 0.5694 - acc: 0.7210 - val_loss: 0.6122 - val_acc: 0.6975\n",
      "Epoch 8/50\n",
      "125/125 [==============================] - 47s 376ms/step - loss: 0.5636 - acc: 0.7165 - val_loss: 0.5450 - val_acc: 0.7338\n",
      "Epoch 9/50\n",
      "125/125 [==============================] - 54s 435ms/step - loss: 0.5479 - acc: 0.7355 - val_loss: 0.5487 - val_acc: 0.7350\n",
      "Epoch 10/50\n",
      "125/125 [==============================] - 49s 395ms/step - loss: 0.5421 - acc: 0.7320 - val_loss: 0.5371 - val_acc: 0.7488\n",
      "Epoch 11/50\n",
      "125/125 [==============================] - 45s 361ms/step - loss: 0.5257 - acc: 0.7465 - val_loss: 0.5387 - val_acc: 0.7350\n",
      "Epoch 12/50\n",
      "125/125 [==============================] - 43s 348ms/step - loss: 0.5055 - acc: 0.7630 - val_loss: 0.6025 - val_acc: 0.7412\n",
      "Epoch 13/50\n",
      "125/125 [==============================] - 45s 360ms/step - loss: 0.5121 - acc: 0.7615 - val_loss: 0.5085 - val_acc: 0.7562\n",
      "Epoch 14/50\n",
      "125/125 [==============================] - 42s 340ms/step - loss: 0.4977 - acc: 0.7760 - val_loss: 0.4834 - val_acc: 0.7788\n",
      "Epoch 15/50\n",
      "125/125 [==============================] - 44s 354ms/step - loss: 0.4845 - acc: 0.7795 - val_loss: 0.6335 - val_acc: 0.7300\n",
      "Epoch 16/50\n",
      "125/125 [==============================] - 44s 352ms/step - loss: 0.4830 - acc: 0.7645 - val_loss: 0.5162 - val_acc: 0.7850\n",
      "Epoch 17/50\n",
      "125/125 [==============================] - 44s 349ms/step - loss: 0.4785 - acc: 0.7905 - val_loss: 0.5336 - val_acc: 0.7512\n",
      "Epoch 18/50\n",
      "125/125 [==============================] - 44s 352ms/step - loss: 0.4518 - acc: 0.7915 - val_loss: 0.5138 - val_acc: 0.7638\n",
      "Epoch 19/50\n",
      "125/125 [==============================] - 50s 399ms/step - loss: 0.4657 - acc: 0.7955 - val_loss: 0.5953 - val_acc: 0.7350\n",
      "Epoch 20/50\n",
      "125/125 [==============================] - 49s 393ms/step - loss: 0.4611 - acc: 0.7835 - val_loss: 0.5475 - val_acc: 0.7462\n",
      "Epoch 21/50\n",
      "125/125 [==============================] - 44s 354ms/step - loss: 0.4407 - acc: 0.7950 - val_loss: 0.6270 - val_acc: 0.7388\n",
      "Epoch 22/50\n",
      "125/125 [==============================] - 45s 359ms/step - loss: 0.4487 - acc: 0.7960 - val_loss: 0.5146 - val_acc: 0.7875\n",
      "Epoch 23/50\n",
      "125/125 [==============================] - 45s 360ms/step - loss: 0.4348 - acc: 0.8100 - val_loss: 0.5184 - val_acc: 0.7725\n",
      "Epoch 24/50\n",
      "125/125 [==============================] - 45s 360ms/step - loss: 0.4344 - acc: 0.8010 - val_loss: 0.6501 - val_acc: 0.7275\n",
      "Epoch 25/50\n",
      "125/125 [==============================] - 45s 356ms/step - loss: 0.4383 - acc: 0.8095 - val_loss: 0.5556 - val_acc: 0.7863\n",
      "Epoch 26/50\n",
      "125/125 [==============================] - 44s 355ms/step - loss: 0.4289 - acc: 0.8075 - val_loss: 0.6978 - val_acc: 0.7362\n",
      "Epoch 27/50\n",
      "125/125 [==============================] - 44s 353ms/step - loss: 0.4258 - acc: 0.8095 - val_loss: 0.5175 - val_acc: 0.7762\n",
      "Epoch 28/50\n",
      "125/125 [==============================] - 44s 352ms/step - loss: 0.4433 - acc: 0.8050 - val_loss: 0.5804 - val_acc: 0.7800\n",
      "Epoch 29/50\n",
      "125/125 [==============================] - 45s 357ms/step - loss: 0.4533 - acc: 0.8145 - val_loss: 0.6295 - val_acc: 0.7100\n",
      "Epoch 30/50\n",
      "125/125 [==============================] - 45s 362ms/step - loss: 0.4197 - acc: 0.8090 - val_loss: 0.6240 - val_acc: 0.7712\n",
      "Epoch 31/50\n",
      "125/125 [==============================] - 45s 356ms/step - loss: 0.4223 - acc: 0.8200 - val_loss: 0.5425 - val_acc: 0.7662\n",
      "Epoch 32/50\n",
      "125/125 [==============================] - 45s 357ms/step - loss: 0.4067 - acc: 0.8235 - val_loss: 0.6210 - val_acc: 0.7488\n",
      "Epoch 33/50\n",
      "125/125 [==============================] - 46s 364ms/step - loss: 0.4271 - acc: 0.8015 - val_loss: 0.6465 - val_acc: 0.7638\n",
      "Epoch 34/50\n",
      "125/125 [==============================] - 47s 379ms/step - loss: 0.4170 - acc: 0.8205 - val_loss: 0.5604 - val_acc: 0.7887\n",
      "Epoch 35/50\n",
      "125/125 [==============================] - 46s 367ms/step - loss: 0.3920 - acc: 0.8275 - val_loss: 0.5957 - val_acc: 0.7700\n",
      "Epoch 36/50\n",
      "125/125 [==============================] - 47s 377ms/step - loss: 0.4123 - acc: 0.8225 - val_loss: 0.6444 - val_acc: 0.7762\n",
      "Epoch 37/50\n",
      "125/125 [==============================] - 45s 361ms/step - loss: 0.4221 - acc: 0.8120 - val_loss: 0.5334 - val_acc: 0.7762\n",
      "Epoch 38/50\n",
      "125/125 [==============================] - 45s 358ms/step - loss: 0.4129 - acc: 0.8280 - val_loss: 0.8587 - val_acc: 0.7488\n",
      "Epoch 39/50\n",
      "125/125 [==============================] - 45s 359ms/step - loss: 0.4277 - acc: 0.8310 - val_loss: 0.5912 - val_acc: 0.7662\n",
      "Epoch 40/50\n",
      "125/125 [==============================] - 46s 364ms/step - loss: 0.4306 - acc: 0.8185 - val_loss: 0.6156 - val_acc: 0.7675\n",
      "Epoch 41/50\n",
      "125/125 [==============================] - 44s 354ms/step - loss: 0.4025 - acc: 0.8300 - val_loss: 0.8618 - val_acc: 0.7562\n",
      "Epoch 42/50\n",
      "125/125 [==============================] - 43s 345ms/step - loss: 0.4176 - acc: 0.8275 - val_loss: 0.6240 - val_acc: 0.7425\n",
      "Epoch 43/50\n",
      "125/125 [==============================] - 43s 343ms/step - loss: 0.3960 - acc: 0.8245 - val_loss: 0.6784 - val_acc: 0.7900\n",
      "Epoch 44/50\n",
      "125/125 [==============================] - 45s 357ms/step - loss: 0.4112 - acc: 0.8285 - val_loss: 0.7389 - val_acc: 0.7550\n",
      "Epoch 45/50\n",
      "125/125 [==============================] - 45s 363ms/step - loss: 0.4260 - acc: 0.8305 - val_loss: 0.8536 - val_acc: 0.7738\n",
      "Epoch 46/50\n",
      "125/125 [==============================] - 45s 359ms/step - loss: 0.4006 - acc: 0.8435 - val_loss: 0.6488 - val_acc: 0.7575\n",
      "Epoch 47/50\n",
      "125/125 [==============================] - 45s 364ms/step - loss: 0.4110 - acc: 0.8330 - val_loss: 0.6818 - val_acc: 0.7738\n",
      "Epoch 48/50\n",
      "125/125 [==============================] - 45s 356ms/step - loss: 0.3996 - acc: 0.8255 - val_loss: 0.6422 - val_acc: 0.8000\n",
      "Epoch 49/50\n",
      "125/125 [==============================] - 45s 358ms/step - loss: 0.3929 - acc: 0.8340 - val_loss: 0.7347 - val_acc: 0.7450\n",
      "Epoch 50/50\n",
      "125/125 [==============================] - 45s 357ms/step - loss: 0.3993 - acc: 0.8355 - val_loss: 0.5184 - val_acc: 0.7675\n"
     ]
    }
   ],
   "source": [
    "model.fit_generator(\n",
    "    train_generator,\n",
    "    steps_per_epoch=nb_train_samples // batch_size,\n",
    "    epochs=epochs,\n",
    "    validation_data=validation_generator,\n",
    "    validation_steps=nb_validation_samples // batch_size)\n",
    "\n",
    "model.save_weights('first_try.h5')"
   ]
  },
  {
   "cell_type": "code",
   "execution_count": null,
   "metadata": {},
   "outputs": [],
   "source": []
  }
 ],
 "metadata": {
  "kernelspec": {
   "display_name": "Python 3",
   "language": "python",
   "name": "python3"
  },
  "language_info": {
   "codemirror_mode": {
    "name": "ipython",
    "version": 3
   },
   "file_extension": ".py",
   "mimetype": "text/x-python",
   "name": "python",
   "nbconvert_exporter": "python",
   "pygments_lexer": "ipython3",
   "version": "3.6.5"
  }
 },
 "nbformat": 4,
 "nbformat_minor": 2
}
